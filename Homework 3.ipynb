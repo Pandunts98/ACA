{
 "cells": [
  {
   "cell_type": "markdown",
   "id": "28d7db5c",
   "metadata": {},
   "source": [
    "# The Goldbach Conjecture\n"
   ]
  },
  {
   "cell_type": "code",
   "execution_count": 38,
   "id": "b5fb48d2",
   "metadata": {},
   "outputs": [
    {
     "name": "stdout",
     "output_type": "stream",
     "text": [
      "27\n"
     ]
    }
   ],
   "source": [
    "number = int(input())\n",
    "\n",
    "def prime_number(n):\n",
    "    for i in range(2, int(n**0.5) + 1):\n",
    "        if n % i == 0:\n",
    "            return False\n",
    "    return True\n",
    "\n",
    "\n",
    "for i in range(1, number//2+1):\n",
    "    if prime_number(i) and prime_number(number - i):\n",
    "        print(i, number - i)"
   ]
  },
  {
   "cell_type": "markdown",
   "id": "3c3491ab",
   "metadata": {},
   "source": [
    "# Polindrome numbers"
   ]
  },
  {
   "cell_type": "code",
   "execution_count": 87,
   "id": "0eb9a628",
   "metadata": {},
   "outputs": [
    {
     "name": "stdout",
     "output_type": "stream",
     "text": [
      "11\n",
      "55\n",
      "11  22  33  44  55  "
     ]
    }
   ],
   "source": [
    "a, b = int(input()), int(input())\n",
    "\n",
    "def is_palindrome(number):\n",
    "    reverse, temp = 0, number\n",
    "    while temp:\n",
    "        reverse = (reverse*10) + (temp %10)\n",
    "        temp = temp//10\n",
    "    return True if reverse == number else False\n",
    "\n",
    "for number in range(a,b+1):\n",
    "    if is_palindrome(number):\n",
    "        print(number, end='  ')"
   ]
  },
  {
   "cell_type": "markdown",
   "id": "e59db05c",
   "metadata": {},
   "source": [
    "# Suffix Sums"
   ]
  },
  {
   "cell_type": "code",
   "execution_count": 88,
   "id": "1be76b07",
   "metadata": {},
   "outputs": [
    {
     "name": "stdout",
     "output_type": "stream",
     "text": [
      "[15, 14, 12, 9, 5]\n"
     ]
    }
   ],
   "source": [
    "# sequence = [float(i) for i in input().split()]\n",
    "sequence = [1,2,3,4,5]\n",
    "sum_seq = [sum(sequence[i:]) for i in range(len(sequence))]\n",
    "print(sum_seq)"
   ]
  },
  {
   "cell_type": "markdown",
   "id": "678d3d56",
   "metadata": {},
   "source": [
    "# Cyclic shift"
   ]
  },
  {
   "cell_type": "code",
   "execution_count": 72,
   "id": "72bd996b",
   "metadata": {},
   "outputs": [
    {
     "name": "stdout",
     "output_type": "stream",
     "text": [
      "4\n",
      "1\n",
      "1\n",
      "2\n",
      "3\n",
      "4\n",
      "[4, 1, 2, 3]\n"
     ]
    }
   ],
   "source": [
    "n, key =int(input()),int(input())\n",
    "arr = [int(input()) for _ in range(n)]\n",
    "key = key % len(arr)\n",
    "print(arr[-key:]+arr[:-key])"
   ]
  },
  {
   "cell_type": "markdown",
   "id": "2fecc09c",
   "metadata": {},
   "source": [
    "# Tree"
   ]
  },
  {
   "cell_type": "code",
   "execution_count": 86,
   "id": "0685aef4",
   "metadata": {},
   "outputs": [
    {
     "name": "stdout",
     "output_type": "stream",
     "text": [
      "        *\n",
      "       ***\n",
      "      *****\n",
      "     *******\n",
      "    *********\n",
      "   ***********\n",
      "  *************\n",
      " ***************\n"
     ]
    }
   ],
   "source": [
    "number = 15\n",
    "for i in range(1, number+1, 2):\n",
    "    print(\" \" * int((number-i)//2), \"*\" * i)"
   ]
  }
 ],
 "metadata": {
  "kernelspec": {
   "display_name": "Python 3",
   "language": "python",
   "name": "python3"
  },
  "language_info": {
   "codemirror_mode": {
    "name": "ipython",
    "version": 3
   },
   "file_extension": ".py",
   "mimetype": "text/x-python",
   "name": "python",
   "nbconvert_exporter": "python",
   "pygments_lexer": "ipython3",
   "version": "3.8.8"
  }
 },
 "nbformat": 4,
 "nbformat_minor": 5
}
