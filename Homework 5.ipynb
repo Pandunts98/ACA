{
 "cells": [
  {
   "cell_type": "code",
   "execution_count": 138,
   "id": "auburn-eight",
   "metadata": {},
   "outputs": [
    {
     "data": {
      "text/plain": [
       "[5, 6]"
      ]
     },
     "execution_count": 138,
     "metadata": {},
     "output_type": "execute_result"
    }
   ],
   "source": [
    "def findDisappearedNumbers(nums: list) -> list:\n",
    "    n = [i for i in range(1,len(nums)+1)]\n",
    "    return list(set(n) - set(nums))      \n",
    "\n",
    "numbers = [4,3,2,7,8,2,3,1]\n",
    "findDisappearedNumbers([4,3,2,7,8,2,3,1])"
   ]
  },
  {
   "cell_type": "code",
   "execution_count": 139,
   "id": "terminal-reproduction",
   "metadata": {},
   "outputs": [
    {
     "data": {
      "text/plain": [
       "['Alaska', 'Dad']"
      ]
     },
     "execution_count": 139,
     "metadata": {},
     "output_type": "execute_result"
    }
   ],
   "source": [
    "def findWords(words: list) -> list:    \n",
    "    return [word for i in [\"qwertyuiop\", \"asdfghjkl\", \"zxcvbnm\"] for word in words  if not set(word.lower())-set(i)]\n",
    "    \n",
    "words = [\"Hello\",\"Alaska\",\"Dad\",\"Peace\"]\n",
    "findWords(words)"
   ]
  },
  {
   "cell_type": "code",
   "execution_count": 140,
   "id": "prescription-franchise",
   "metadata": {},
   "outputs": [
    {
     "data": {
      "text/plain": [
       "[[1, 4], [2, 5], [3, 6]]"
      ]
     },
     "execution_count": 140,
     "metadata": {},
     "output_type": "execute_result"
    }
   ],
   "source": [
    "def transpose(matrix: list) -> list: \n",
    "    return [[row[i] for row in matrix] for i in range(len(matrix[0]))]\n",
    "\n",
    "matrix = [[1,2,3],[4,5,6]]\n",
    "transpose(matrix)"
   ]
  },
  {
   "cell_type": "code",
   "execution_count": 147,
   "id": "fifty-shannon",
   "metadata": {},
   "outputs": [
    {
     "data": {
      "text/plain": [
       "[[1, 2], [3, 4], [5, 6]]"
      ]
     },
     "execution_count": 147,
     "metadata": {},
     "output_type": "execute_result"
    }
   ],
   "source": [
    "def matrixReshape(mat: list, r: int, c: int) -> list:\n",
    "    m, n = len(mat),len(mat[0])\n",
    "    flatten_matrix = [item for row in mat for item in row]\n",
    "    return [flatten_matrix[i*c:(i+1)*c] for i in range(r)] if r*c == m*n else mat\n",
    "\n",
    "matrix = [[1,2,3],[4,5,6]]\n",
    "matrixReshape(matrix,3,2)"
   ]
  },
  {
   "cell_type": "code",
   "execution_count": 148,
   "id": "brazilian-tokyo",
   "metadata": {},
   "outputs": [
    {
     "data": {
      "text/plain": [
       "2"
      ]
     },
     "execution_count": 148,
     "metadata": {},
     "output_type": "execute_result"
    }
   ],
   "source": [
    "def countBattleships(board: list) -> list:\n",
    "        count = 0\n",
    "        for i in range(len(board)):\n",
    "            for j in range(len(board[i])):\n",
    "                if ((board[i-1][j] == \".\" or i==0) and (j == 0 or board[i][j-1] == \".\" or j==0) and board[i][j] == \"X\"):\n",
    "                    count += 1\n",
    "        return count\n",
    "    \n",
    "board = [[\"X\",\".\",\".\",\"X\"],[\".\",\".\",\".\",\"X\"],[\".\",\".\",\".\",\"X\"]]\n",
    "countBattleships(board)"
   ]
  }
 ],
 "metadata": {
  "kernelspec": {
   "display_name": "Python 3",
   "language": "python",
   "name": "python3"
  },
  "language_info": {
   "codemirror_mode": {
    "name": "ipython",
    "version": 3
   },
   "file_extension": ".py",
   "mimetype": "text/x-python",
   "name": "python",
   "nbconvert_exporter": "python",
   "pygments_lexer": "ipython3",
   "version": "3.7.4"
  }
 },
 "nbformat": 4,
 "nbformat_minor": 5
}
