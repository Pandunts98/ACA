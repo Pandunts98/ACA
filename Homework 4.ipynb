{
 "cells": [
  {
   "cell_type": "code",
   "execution_count": 103,
   "id": "gorgeous-capacity",
   "metadata": {},
   "outputs": [
    {
     "name": "stdout",
     "output_type": "stream",
     "text": [
      "2\n"
     ]
    }
   ],
   "source": [
    "emails = [\"test.email+alex@leetcode.com\",\"test.e.mail+bob.cathy@leetcode.com\",\"testemail+david@lee.tcode.com\"]\n",
    "\n",
    "def numUniqueEmails(emails):\n",
    "    new_emails = set()\n",
    "    for email in emails:\n",
    "        local, domain = email.split('@')\n",
    "        if '+' in local:\n",
    "            local = local[:local.index('+')]\n",
    "        new_emails.add(f'{local.replace(\".\",\"\")}@{domain}')\n",
    "    return len(new_emails)\n",
    "\n",
    "\n",
    "print(numUniqueEmails(emails))"
   ]
  },
  {
   "cell_type": "code",
   "execution_count": 101,
   "id": "monthly-charm",
   "metadata": {},
   "outputs": [
    {
     "name": "stdout",
     "output_type": "stream",
     "text": [
      "['mee', 'aqq']\n"
     ]
    }
   ],
   "source": [
    "def findPattern(word):\n",
    "    a, b = {},[]\n",
    "    for w in word:\n",
    "        if w not in a:\n",
    "            a[w] = len(a)\n",
    "        b.append(a[w]) \n",
    "    return b  \n",
    "\n",
    "def findAndReplacePattern(words,pattern):\n",
    "    out_arr = []\n",
    "    for word in words:\n",
    "        if findPattern(word) == findPattern(pattern):\n",
    "            out_arr.append(word)\n",
    "    return out_arr\n",
    "\n",
    "words = [\"abc\",\"deq\",\"mee\",\"aqq\",\"dkd\",\"ccc\"]\n",
    "print(findAndReplacePattern(words,'abb'))"
   ]
  },
  {
   "cell_type": "code",
   "execution_count": 102,
   "id": "equal-adobe",
   "metadata": {},
   "outputs": [
    {
     "data": {
      "text/plain": [
       "[0, 2, 0, 0, 0]"
      ]
     },
     "execution_count": 102,
     "metadata": {},
     "output_type": "execute_result"
    }
   ],
   "source": [
    "from collections import defaultdict\n",
    "\n",
    "def finding_the_users_active_minute(logs,k):\n",
    "    ans= [0]*5\n",
    "    f = defaultdict(lambda: set())\n",
    "    for i,x in logs:\n",
    "        f[i].add(x)\n",
    "    for i in f.keys():\n",
    "        ans[len(f[i])-1]+=1\n",
    "    return  ans\n",
    "\n",
    "finding_the_users_active_minute(logs = [[0,5],[1,2],[0,2],[0,5],[1,3]], k = 5)"
   ]
  },
  {
   "cell_type": "code",
   "execution_count": 96,
   "id": "coastal-salad",
   "metadata": {},
   "outputs": [
    {
     "data": {
      "text/plain": [
       "3"
      ]
     },
     "execution_count": 96,
     "metadata": {},
     "output_type": "execute_result"
    }
   ],
   "source": [
    "def numJewelsInStones(jewels, stones):\n",
    "    j=0\n",
    "    for s in stones:\n",
    "        if s in jewels:\n",
    "            j+=1\n",
    "    return j       \n",
    "\n",
    "numJewelsInStones(jewels = \"aA\", stones = \"aAAbbbb\")"
   ]
  },
  {
   "cell_type": "code",
   "execution_count": 98,
   "id": "combined-killing",
   "metadata": {},
   "outputs": [
    {
     "name": "stdout",
     "output_type": "stream",
     "text": [
      "7\n",
      "01010101\n",
      "2\n"
     ]
    }
   ],
   "source": [
    "## Beautiful binary string\n",
    "n = int(input())\n",
    "s = input()\n",
    "print(s.count('010'))"
   ]
  },
  {
   "cell_type": "code",
   "execution_count": 99,
   "id": "statewide-cassette",
   "metadata": {},
   "outputs": [
    {
     "name": "stdout",
     "output_type": "stream",
     "text": [
      "xyz\n",
      "undefined\n"
     ]
    }
   ],
   "source": [
    "def string_power(s, k):\n",
    "    if k < 0:\n",
    "        string = s[:len(s) // abs(k)]\n",
    "        if len(s)%abs(k)==0 and s.count(string) == abs(k):\n",
    "            return string\n",
    "        else:\n",
    "            return \"undefined\"\n",
    "    else:\n",
    "        return s*k\n",
    "    \n",
    "print(string_power(\"xyzxyz\", -2))\n",
    "print(string_power(\"xyzxxyz\", -2))"
   ]
  },
  {
   "cell_type": "code",
   "execution_count": null,
   "id": "certain-remainder",
   "metadata": {},
   "outputs": [],
   "source": []
  }
 ],
 "metadata": {
  "kernelspec": {
   "display_name": "Python 3",
   "language": "python",
   "name": "python3"
  },
  "language_info": {
   "codemirror_mode": {
    "name": "ipython",
    "version": 3
   },
   "file_extension": ".py",
   "mimetype": "text/x-python",
   "name": "python",
   "nbconvert_exporter": "python",
   "pygments_lexer": "ipython3",
   "version": "3.7.4"
  }
 },
 "nbformat": 4,
 "nbformat_minor": 5
}
